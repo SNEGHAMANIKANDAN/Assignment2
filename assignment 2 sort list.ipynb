{
 "cells": [
  {
   "cell_type": "markdown",
   "id": "c044cb95",
   "metadata": {},
   "source": [
    "Write a Python program to get a list, sorted in increasing order by the last element in each tuple from a given list of non-empty tuples\n",
    "\n",
    "\n",
    "\n",
    "Sample List : [(2, 5), (1, 2), (4, 4), (2, 3), (2, 1)]\n",
    "\n",
    "Expected Result : [(2, 1), (1, 2), (2, 3), (4, 4), (2, 5)]"
   ]
  },
  {
   "cell_type": "code",
   "execution_count": 68,
   "id": "24b4a9fe",
   "metadata": {},
   "outputs": [
    {
     "name": "stdout",
     "output_type": "stream",
     "text": [
      "Enter the number of tuples u want inside the list\n",
      "6\n",
      "1\n",
      "2\n",
      "3\n",
      "1\n",
      "6\n",
      "7\n",
      "5\n",
      "6\n",
      "8\n",
      "9\n",
      "4\n",
      "5\n",
      "the given list is  [(1, 2), (3, 1), (6, 7), (5, 6), (8, 9), (4, 5)]\n",
      "The sorted list is  [(3, 1), (1, 2), (4, 5), (5, 6), (6, 7), (8, 9)]\n"
     ]
    }
   ],
   "source": [
    "l=[]\n",
    "i=0\n",
    "print(\"Enter the number of tuples u want inside the list\")\n",
    "t=int(input())\n",
    "while i< t:\n",
    "    a=int(input())\n",
    "    b=int(input())\n",
    "    t1=a,b\n",
    "    l.append(t1)\n",
    "    i+=1\n",
    "newlist=[]\n",
    "for i in l:\n",
    "    newlist.append(i[1])\n",
    "#print(newlist)\n",
    "newlist.sort()\n",
    "#print(newlist)\n",
    "print(\"the given list is \",l)\n",
    "sortedlist=[]\n",
    "j=0\n",
    "while j< len(newlist):\n",
    "    for i in range(len(l)):\n",
    "        if newlist[j]==l[i][1]:\n",
    "            sortedlist.append(l[i])\n",
    "    j+=1\n",
    "print(\"The sorted list is \", sortedlist)"
   ]
  },
  {
   "cell_type": "markdown",
   "id": "301f3675",
   "metadata": {},
   "source": [
    "### "
   ]
  },
  {
   "cell_type": "code",
   "execution_count": null,
   "id": "f765b0c9",
   "metadata": {},
   "outputs": [],
   "source": []
  }
 ],
 "metadata": {
  "kernelspec": {
   "display_name": "Python 3 (ipykernel)",
   "language": "python",
   "name": "python3"
  },
  "language_info": {
   "codemirror_mode": {
    "name": "ipython",
    "version": 3
   },
   "file_extension": ".py",
   "mimetype": "text/x-python",
   "name": "python",
   "nbconvert_exporter": "python",
   "pygments_lexer": "ipython3",
   "version": "3.10.1"
  }
 },
 "nbformat": 4,
 "nbformat_minor": 5
}
